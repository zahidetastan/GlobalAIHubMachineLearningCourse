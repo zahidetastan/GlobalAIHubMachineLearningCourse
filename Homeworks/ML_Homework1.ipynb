{
 "cells": [
  {
   "cell_type": "markdown",
   "metadata": {},
   "source": [
    "## Homework 1\n",
    "\n",
    "1) How would you define Machine Learning?  \n",
    "2) What are the differences between Supervised and Unsupervised Learning? Specify example 3 algorithms   for each of these.  \n",
    "3) What are the test and validation set, and why would you want to use them?  \n",
    "4) What are the main preprocessing steps? Explain them in detail. Why we need to prepare our data?  \n",
    "5) How you can explore and analyse countionus and discrete variables?  \n",
    "6) Analyse the plot given below. (What is the plot and variable type, check the distribution and make comment about how you can preproccess it.) "
   ]
  },
  {
   "cell_type": "markdown",
   "metadata": {},
   "source": [
    "# Answers"
   ]
  },
  {
   "cell_type": "markdown",
   "metadata": {},
   "source": [
    "1) Machine learning is the field of study that gives computers the capability of learn from examples without being explicitly programmed. "
   ]
  },
  {
   "cell_type": "markdown",
   "metadata": {},
   "source": [
    "2) \n",
    "  - In Supervised Learning(classification), the training data are accompanied by labels indicating the class of the observations. \n",
    "  - In Unsupervised Learning(clustering), the class labels of training data is unknown.\n",
    "  - In Supervised Learning, input and output features are given. \n",
    "  - In Unsupervised Learning, only input features are given. It finds all kind of unknown patterns in data.\n",
    "  - Example of Supervised Learning algorithms are SVM, Decision Tree, Neural Network, Logistic Regression, Naive Bayes. \n",
    "  - Example of Unsupervised Learning algorithms are AGNES, DBSCAN, FP-GROWTH."
   ]
  },
  {
   "cell_type": "markdown",
   "metadata": {},
   "source": [
    "3) The test set is a set of data that is used to test the model after the model has already been trained.\n",
    "  The validation set is a set of data, separate from the training set, that is used to validate our model during training. \n",
    "   It helps give information that may assist us with adjusting our hyperparameters."
   ]
  },
  {
   "cell_type": "markdown",
   "metadata": {},
   "source": [
    "4) Main preprocessing steps are: \n",
    "   - Data cleaning: Fill in missing values, smooth noisy data, identify or remove outliers, and resolve inconsistencies.\n",
    "   - Data integration: Integration of multiple databases, data cubes, or files.\n",
    "   - Data reduction: Dimensionality reduction, Numerosity reduction, Data compression\n",
    "   - Data transformation: Normalization, Concept hierarchy generation"
   ]
  },
  {
   "cell_type": "markdown",
   "metadata": {},
   "source": [
    "5) We can use bar chart to explore discrete variables. And we can use histogram, scatter plot to explore continuous variables. "
   ]
  },
  {
   "cell_type": "markdown",
   "metadata": {},
   "source": [
    "6) Plot in the given figure is histogram. Variable type is continuous. For the preprocessing of data, we can apply the outlier detection and scaling."
   ]
  },
  {
   "cell_type": "code",
   "execution_count": null,
   "metadata": {},
   "outputs": [],
   "source": []
  }
 ],
 "metadata": {
  "kernelspec": {
   "display_name": "Python 3",
   "language": "python",
   "name": "python3"
  },
  "language_info": {
   "codemirror_mode": {
    "name": "ipython",
    "version": 3
   },
   "file_extension": ".py",
   "mimetype": "text/x-python",
   "name": "python",
   "nbconvert_exporter": "python",
   "pygments_lexer": "ipython3",
   "version": "3.7.4"
  }
 },
 "nbformat": 4,
 "nbformat_minor": 4
}
